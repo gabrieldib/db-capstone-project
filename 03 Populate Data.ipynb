{
 "cells": [
  {
   "cell_type": "code",
   "execution_count": null,
   "id": "71f099fe-d8e1-435c-bb8e-6e77bcb03c69",
   "metadata": {
    "editable": false,
    "slideshow": {
     "slide_type": ""
    },
    "tags": []
   },
   "outputs": [],
   "source": [
    "import random\n",
    "import mysql.connector\n",
    "from datetime import datetime, timedelta"
   ]
  },
  {
   "cell_type": "markdown",
   "id": "5d2a66a0-e193-4fe1-8200-b5c06a3de3bd",
   "metadata": {
    "editable": false,
    "raw_mimetype": "",
    "slideshow": {
     "slide_type": "slide"
    },
    "tags": []
   },
   "source": [
    "# Input your MySQL username and password below"
   ]
  },
  {
   "cell_type": "code",
   "execution_count": null,
   "id": "31c4e9d9-6d22-42d1-ab7d-770b3d867fa8",
   "metadata": {
    "editable": true,
    "slideshow": {
     "slide_type": ""
    },
    "tags": []
   },
   "outputs": [],
   "source": [
    "username = 'coursera_user'\n",
    "password = 'coursera_user'"
   ]
  },
  {
   "cell_type": "code",
   "execution_count": null,
   "id": "aa5c6e6f-af03-43d6-8633-d72fe12412f4",
   "metadata": {
    "editable": false,
    "slideshow": {
     "slide_type": ""
    },
    "tags": []
   },
   "outputs": [],
   "source": [
    "db = mysql.connector.connect(\n",
    "    host=\"localhost\",\n",
    "    user = username,\n",
    "    password = password,\n",
    "    database=\"GD_little_lemon_db\"\n",
    ")"
   ]
  },
  {
   "cell_type": "code",
   "execution_count": null,
   "id": "d0c3cd8d-13c0-46da-82dc-58467f60b051",
   "metadata": {
    "editable": false,
    "slideshow": {
     "slide_type": ""
    },
    "tags": []
   },
   "outputs": [],
   "source": [
    "cursor = db.cursor()"
   ]
  },
  {
   "cell_type": "markdown",
   "id": "94de12f1-119a-4cd6-a0e8-231121cb751a",
   "metadata": {
    "editable": false,
    "slideshow": {
     "slide_type": ""
    },
    "tags": []
   },
   "source": [
    "# Step 1: Generate Orders from Bookings"
   ]
  },
  {
   "cell_type": "code",
   "execution_count": null,
   "id": "8bac17d0-25c5-45e2-b254-0c1e5624e5d7",
   "metadata": {
    "editable": false,
    "slideshow": {
     "slide_type": ""
    },
    "tags": []
   },
   "outputs": [],
   "source": [
    "def check_and_insert_if_empty(table_name, insert_function):\n",
    "    cursor.execute(f\"SELECT COUNT(*) FROM {table_name}\")\n",
    "    count = cursor.fetchone()[0]\n",
    "    if count == 0:\n",
    "        print(f\"Table '{table_name}' is empty. Proceeding with data insertion.\")\n",
    "        insert_function()\n",
    "    else:\n",
    "        print(f\"Table '{table_name}' is not empty. Skipping data insertion.\")"
   ]
  },
  {
   "cell_type": "markdown",
   "id": "9e2c1a26-1004-446a-a989-44485543784a",
   "metadata": {
    "editable": false,
    "slideshow": {
     "slide_type": ""
    },
    "tags": []
   },
   "source": [
    "# Step 2: Generate Order Items for Each Order"
   ]
  },
  {
   "cell_type": "code",
   "execution_count": null,
   "id": "a01fe481-74f6-4e5e-bc54-0cf71949d9e9",
   "metadata": {
    "editable": false,
    "slideshow": {
     "slide_type": ""
    },
    "tags": []
   },
   "outputs": [],
   "source": [
    "def insert_orders():\n",
    "    cursor.execute(\"SELECT id_booking FROM bookings\")\n",
    "    bookings = cursor.fetchall()\n",
    "\n",
    "    for booking in bookings:\n",
    "        id_booking = booking[0]\n",
    "        date = datetime.now() - timedelta(days=random.randint(1, 90))  # Random date within last 3 months\n",
    "        cursor.execute(\"INSERT INTO orders (date, fk_booking_id) VALUES (%s, %s)\", (date, id_booking))\n",
    "    db.commit()\n",
    "    print(f\"Inserted orders for {len(bookings)} bookings.\\n\")\n",
    "\n",
    "\n",
    "check_and_insert_if_empty(\"orders\", insert_orders)"
   ]
  },
  {
   "cell_type": "markdown",
   "id": "6d30b1b8-4b57-40f1-8797-5ace70ce387e",
   "metadata": {
    "editable": false,
    "slideshow": {
     "slide_type": ""
    },
    "tags": []
   },
   "source": [
    "# Step 3: Assign Staff to Bookings (Booking Staff Table)"
   ]
  },
  {
   "cell_type": "code",
   "execution_count": null,
   "id": "7ecd3dbf-9ed5-45de-883f-b0be74049ade",
   "metadata": {
    "editable": false,
    "slideshow": {
     "slide_type": ""
    },
    "tags": []
   },
   "outputs": [],
   "source": [
    "def insert_delivery_data():\n",
    "    cursor.execute(\"SELECT id_order_items FROM order_items\")\n",
    "    order_items = cursor.fetchall()\n",
    "\n",
    "    cursor.execute(\"SELECT id_staff FROM staff\")\n",
    "    staff = cursor.fetchall()\n",
    "\n",
    "    statuses = ['ordered', 'preparing', 'ready for delivery', 'delivered']\n",
    "\n",
    "    for item in order_items:\n",
    "        id_order_item = item[0]\n",
    "        fk_server = random.choice(staff)[0]\n",
    "\n",
    "        # Insert each status with different timestamps\n",
    "        for i, status in enumerate(statuses):\n",
    "            timestamp = datetime.now() - timedelta(minutes=random.randint(1, 100) + (i * 10))  # Random time in the past 100 minutes, staggered by 10 mins\n",
    "            cursor.execute(\n",
    "                \"INSERT INTO delivery (last_updated, status, fk_server, fk_order_items) VALUES (%s, %s, %s, %s)\",\n",
    "                (timestamp, status, fk_server, id_order_item)\n",
    "            )\n",
    "\n",
    "    db.commit()\n",
    "    print(f\"Inserted delivery records for {len(order_items)} order items with various statuses.\\n\")"
   ]
  },
  {
   "cell_type": "markdown",
   "id": "97896045-b7ff-411d-91f4-70784b30e782",
   "metadata": {
    "editable": false,
    "slideshow": {
     "slide_type": ""
    },
    "tags": []
   },
   "source": [
    "# Finally, close the cursor and db connections"
   ]
  },
  {
   "cell_type": "code",
   "execution_count": null,
   "id": "9d63c587-b93a-4a60-84b7-67311f1dbc6f",
   "metadata": {
    "editable": false,
    "slideshow": {
     "slide_type": ""
    },
    "tags": []
   },
   "outputs": [],
   "source": [
    "cursor.close()\n",
    "db.close()"
   ]
  }
 ],
 "metadata": {
  "kernelspec": {
   "display_name": "Python 3 (ipykernel)",
   "language": "python",
   "name": "python3"
  },
  "language_info": {
   "codemirror_mode": {
    "name": "ipython",
    "version": 3
   },
   "file_extension": ".py",
   "mimetype": "text/x-python",
   "name": "python",
   "nbconvert_exporter": "python",
   "pygments_lexer": "ipython3",
   "version": "3.12.5"
  }
 },
 "nbformat": 4,
 "nbformat_minor": 5
}
