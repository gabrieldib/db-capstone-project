{
 "cells": [
  {
   "cell_type": "code",
   "execution_count": 59,
   "id": "1a60548f-f7fa-496f-8bf7-b7bcf56bb9fb",
   "metadata": {},
   "outputs": [],
   "source": [
    "import mysql.connector as connector"
   ]
  },
  {
   "cell_type": "code",
   "execution_count": 60,
   "id": "ed5b892b-e454-482d-b5bf-3d286bc41430",
   "metadata": {},
   "outputs": [],
   "source": [
    "connection = connector.connect(\n",
    "    user = \"coursera_user\", \n",
    "    password = \"coursera_user\", \n",
    "    db = \"little_lemon_db\"\n",
    ")"
   ]
  },
  {
   "cell_type": "code",
   "execution_count": 61,
   "id": "d4c95c8a-4bb6-45a4-9774-3a0f61c5853f",
   "metadata": {},
   "outputs": [],
   "source": [
    "cursor = connection.cursor()"
   ]
  },
  {
   "cell_type": "code",
   "execution_count": 62,
   "id": "29c09f6c-a9a0-488b-9bd4-1626ed59321f",
   "metadata": {},
   "outputs": [],
   "source": [
    "show_tables_query = \"SHOW tables\"\n",
    "cursor.execute(show_tables_query)"
   ]
  },
  {
   "cell_type": "code",
   "execution_count": 63,
   "id": "0c43109e-0314-469a-91dc-201d83dc1fdb",
   "metadata": {},
   "outputs": [
    {
     "name": "stdout",
     "output_type": "stream",
     "text": [
      "('booking_staff',)\n",
      "('bookings',)\n",
      "('cuisine',)\n",
      "('customers',)\n",
      "('delivery',)\n",
      "('menu_item_sections',)\n",
      "('menu_items',)\n",
      "('order_items',)\n",
      "('orders',)\n",
      "('staff',)\n"
     ]
    }
   ],
   "source": [
    "results = cursor.fetchall()\n",
    "for item in results:\n",
    "    print(item)"
   ]
  },
  {
   "cell_type": "code",
   "execution_count": 78,
   "id": "48c772d4-91a2-4b34-8b6f-928ff1384f07",
   "metadata": {},
   "outputs": [],
   "source": [
    "customer_spending_query = \"\"\"\n",
    "SELECT\n",
    "    CONCAT(c.first_name, \" \", c.last_name) AS Customer,\n",
    "    c.phone AS Phone,\n",
    "    c.email AS 'E-mail',\n",
    "    SUM(mi.price * oi.quantity) AS bill_total\n",
    "FROM customers   AS c\n",
    "JOIN bookings    AS b  ON c.id_customers  = b.fk_customer\n",
    "JOIN orders      AS o  ON b.id_booking    = o.fk_booking_id\n",
    "JOIN order_items AS oi ON o.id_orders     = oi.fk_order\n",
    "JOIN menu_items  AS mi ON oi.fk_menu_item = mi.id_menu_item\n",
    "GROUP BY Customer, Phone, c.email\n",
    "HAVING bill_total >= 60;\n",
    "\"\"\"\n",
    "cursor.execute(customer_spending_query)"
   ]
  },
  {
   "cell_type": "code",
   "execution_count": 79,
   "id": "e442a0f3-0830-448b-86ce-0ade98c71b89",
   "metadata": {},
   "outputs": [
    {
     "name": "stdout",
     "output_type": "stream",
     "text": [
      " Customer           | Phone              | E-mail                     | Total Spending\n",
      "  Hank Wilson        3997226001           hank.wilson@test.org           $107.00\n",
      "  Grace Nelson       1439889364           grace.nelson@example.com       $306.00\n",
      "  Grace Walker       3619034772           grace.walker@example.com       $67.50\n",
      "  Amelia Roberts     6733735193           amelia.roberts@mail.com        $66.00\n",
      "  Mason Robinson     8221000436           mason.robinson@example.com     $62.00\n",
      "  Alice Lewis        1154165942           alice.lewis@test.org           $66.00\n",
      "  Nancy Wilson       2302418051           nancy.wilson@mail.com          $61.50\n",
      "  Daniel King        3442538420           daniel.king@example.com        $113.50\n",
      "  Tina Martinez      7574967875           tina.martinez@test.org         $103.50\n",
      "  David Smith        2475049819           david.smith@mail.com           $190.00\n"
     ]
    }
   ],
   "source": [
    "results = cursor.fetchall()\n",
    "print(f\" Customer           | Phone              | E-mail                     | Total Spending\")\n",
    "for item in results:\n",
    "    print(f\"  {item[0]:<15}    {item[1]:<16}     {item[2]:<26}     ${item[3]:>5}\")"
   ]
  },
  {
   "cell_type": "code",
   "execution_count": null,
   "id": "faf3ec28-8467-4d8a-ae41-bad3fedf21a7",
   "metadata": {},
   "outputs": [],
   "source": []
  }
 ],
 "metadata": {
  "kernelspec": {
   "display_name": "Python 3 (ipykernel)",
   "language": "python",
   "name": "python3"
  },
  "language_info": {
   "codemirror_mode": {
    "name": "ipython",
    "version": 3
   },
   "file_extension": ".py",
   "mimetype": "text/x-python",
   "name": "python",
   "nbconvert_exporter": "python",
   "pygments_lexer": "ipython3",
   "version": "3.12.5"
  }
 },
 "nbformat": 4,
 "nbformat_minor": 5
}
